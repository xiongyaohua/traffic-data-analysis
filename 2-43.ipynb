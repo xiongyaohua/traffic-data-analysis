{
 "cells": [
  {
   "cell_type": "markdown",
   "metadata": {},
   "source": [
    "# 期中练习\n",
    "\n",
    "## 要求\n",
    "\n",
    "检验对上半学期知识的掌握，课后自行完成，可查阅各种资料。\n",
    "\n",
    "### 如何提交\n",
    "\n",
    "- 复制本文件，文件名改为`教学班号-编号.ipynb`。例如刘国强同学是2班第15号，文件名应改为`2-15.ipynb`。\n",
    "- 在复制文件中答题，每道题的答案紧接题目。\n",
    "- 答题结束后commit该文件，并提交pull request。\n",
    "\n"
   ]
  },
  {
   "cell_type": "code",
   "execution_count": 1,
   "metadata": {},
   "outputs": [],
   "source": [
    "#江南 2021113493"
   ]
  },
  {
   "cell_type": "code",
   "execution_count": 2,
   "metadata": {},
   "outputs": [],
   "source": [
    "import numpy as np\n",
    "import matplotlib.pyplot as plt"
   ]
  },
  {
   "cell_type": "markdown",
   "metadata": {},
   "source": [
    "## 练习1\n",
    "\n",
    "为了分析自变量$x$和因变量$y$的关系，通过测量得到带误差的20个样本数据如下所示"
   ]
  },
  {
   "cell_type": "code",
   "execution_count": 3,
   "metadata": {},
   "outputs": [],
   "source": [
    "X = np.array([ 0.70846042, -0.68388789,  1.03780474,  1.08334621,  0.77026309,\n",
    "        0.19722004, -0.46819526, -0.45270204,  0.02362673,  0.06549472,\n",
    "        0.08898416,  0.59424455, -0.26400365,  0.2456922 ,  0.5114847 ,\n",
    "       -0.31604016, -1.49329364,  1.24112288,  1.01993764,  1.75634392])"
   ]
  },
  {
   "cell_type": "code",
   "execution_count": 4,
   "metadata": {},
   "outputs": [],
   "source": [
    "Y = np.array([ 4.49682518,  3.5737603 ,  7.93568197,  3.58719009,  5.38341441,\n",
    "        5.47930021, -0.9861325 , -0.15686681,  2.36963799,  4.01600211,\n",
    "       -0.20329642,  3.07728831, -1.30408343,  2.84796441,  2.27915787,\n",
    "        2.62078689, -1.2855133 ,  4.39242028,  6.24385669,  6.00822241])"
   ]
  },
  {
   "cell_type": "code",
   "execution_count": 5,
   "metadata": {},
   "outputs": [
    {
     "data": {
      "text/plain": [
       "[<matplotlib.lines.Line2D at 0x1ea542e2b50>]"
      ]
     },
     "execution_count": 5,
     "metadata": {},
     "output_type": "execute_result"
    },
    {
     "data": {
      "image/png": "[encoded data removed]",
      "text/plain": [
       "<Figure size 640x480 with 1 Axes>"
      ]
     },
     "metadata": {},
     "output_type": "display_data"
    }
   ],
   "source": [
    "plt.plot(X, Y, \".\")"
   ]
  },
  {
   "cell_type": "markdown",
   "metadata": {},
   "source": [
    "### 1.1 划分训练集和测试集\n",
    "\n",
    "将20个数据点划分为训练集和测试集，期中训练集为前15个数据点，测试集为后5个。"
   ]
  },
  {
   "cell_type": "markdown",
   "metadata": {},
   "source": [
    "### 1.2 数据建模\n",
    "\n",
    "分别用1到4次多项式函数作为模型拟合训练集中的数据，并分别计算每个模型与数据的均方差（MSE）。\n",
    "\n",
    "哪一个模型与训练数据拟合最好？"
   ]
  },
  {
   "cell_type": "code",
   "execution_count": 25,
   "metadata": {
    "scrolled": true
   },
   "outputs": [
    {
     "name": "stdout",
     "output_type": "stream",
     "text": [
      "第1次多项式函数的MSE为 : 3.614\n",
      "第2次多项式函数的MSE为 : 3.471\n",
      "第3次多项式函数的MSE为 : 3.010\n",
      "第4次多项式函数的MSE为 : 2.397\n"
     ]
    }
   ],
   "source": [
    "#解答代码\n",
    "import numpy as np\n",
    "from sklearn.metrics import mean_squared_error\n",
    "X = np.array([ 0.70846042, -0.68388789,  1.03780474,  1.08334621,  0.77026309,\n",
    "        0.19722004, -0.46819526, -0.45270204,  0.02362673,  0.06549472,\n",
    "        0.08898416,  0.59424455, -0.26400365,  0.2456922 ,  0.5114847 ,\n",
    "       -0.31604016, -1.49329364,  1.24112288,  1.01993764,  1.75634392])\n",
    "Y = np.array([ 4.49682518,  3.5737603 ,  7.93568197,  3.58719009,  5.38341441,\n",
    "        5.47930021, -0.9861325 , -0.15686681,  2.36963799,  4.01600211,\n",
    "       -0.20329642,  3.07728831, -1.30408343,  2.84796441,  2.27915787,\n",
    "        2.62078689, -1.2855133 ,  4.39242028,  6.24385669,  6.00822241])\n",
    "\n",
    "X_train = X[:15]\n",
    "Y_train = Y[:15]\n",
    "X_test = X[15:]\n",
    "Y_test = Y[15:]\n",
    "\n",
    "for i in range(1,5): \n",
    "    p = np.polyfit(X_train, Y_train, i)\n",
    "    Y_pred_train = np.polyval(p, X_train)\n",
    "    mse_train = mean_squared_error(Y_train, Y_pred_train)\n",
    "    print(\"第%d次多项式函数的MSE为 : %.3f\" % (i, mse_train))"
   ]
  },
  {
   "cell_type": "code",
   "execution_count": 7,
   "metadata": {},
   "outputs": [],
   "source": [
    "#从输出的结果可知，第4次多项式函数的MSE最小，说明4次多项式函数与训练数据的拟合效果最好"
   ]
  },
  {
   "cell_type": "markdown",
   "metadata": {},
   "source": [
    "### 1.3 模型测试\n",
    "计算4个模型与测试数据的均方差，哪一个模型与测试数据拟合最好？"
   ]
  },
  {
   "cell_type": "markdown",
   "metadata": {},
   "source": [
    "1.2和1.3的答案是否相同？两者的异同有什么意义？"
   ]
  },
  {
   "cell_type": "code",
   "execution_count": 26,
   "metadata": {},
   "outputs": [
    {
     "name": "stdout",
     "output_type": "stream",
     "text": [
      "第1次多项式函数的MSE为 : 1.937\n",
      "第2次多项式函数的MSE为 : 6.925\n",
      "第3次多项式函数的MSE为 : 145.538\n",
      "第4次多项式函数的MSE为 : 2717.500\n"
     ]
    }
   ],
   "source": [
    "#解答代码\n",
    "import numpy as np\n",
    "from sklearn.metrics import mean_squared_error\n",
    "X = np.array([ 0.70846042, -0.68388789,  1.03780474,  1.08334621,  0.77026309,\n",
    "        0.19722004, -0.46819526, -0.45270204,  0.02362673,  0.06549472,\n",
    "        0.08898416,  0.59424455, -0.26400365,  0.2456922 ,  0.5114847 ,\n",
    "       -0.31604016, -1.49329364,  1.24112288,  1.01993764,  1.75634392])\n",
    "Y = np.array([ 4.49682518,  3.5737603 ,  7.93568197,  3.58719009,  5.38341441,\n",
    "        5.47930021, -0.9861325 , -0.15686681,  2.36963799,  4.01600211,\n",
    "       -0.20329642,  3.07728831, -1.30408343,  2.84796441,  2.27915787,\n",
    "        2.62078689, -1.2855133 ,  4.39242028,  6.24385669,  6.00822241])\n",
    "\n",
    "X_train = X[:15]\n",
    "Y_train = Y[:15]\n",
    "X_test = X[15:]\n",
    "Y_test = Y[15:]\n",
    "\n",
    "for i in range(1,5): \n",
    "    p = np.polyfit(X_train, Y_train, i)\n",
    "    Y_pred_test = np.polyval(p, X_test)\n",
    "    mse_test = mean_squared_error(Y_test, Y_pred_test)\n",
    "    print(\"第%d次多项式函数的MSE为 : %.3f\" % (i, mse_test))"
   ]
  },
  {
   "cell_type": "code",
   "execution_count": null,
   "metadata": {},
   "outputs": [],
   "source": [
    "#从输出结果可知，1次多项式函数的MSE最小，说明1次多项式函数与测试数据的拟合效果最好\n",
    "#问题1和问题2的答案并不相同。在问题1中，我们选择了最适合拟合训练数据的模型，而在问题2中，我们选择了最适合拟合测试数据的模型。\n",
    "#这是因为模型在训练集上的表现可能不同于其在测试集上的表现。\n",
    "#意义：\n",
    "#问题1中的答案告诉我们在给定的训练数据集上，哪个模型能够最好地拟合数据。这对于选择适当的模型和评估训练集上的拟合效果非常有用。\n",
    "#问题2中的答案告诉我们在给定的测试数据集上，哪个模型能够最好地拟合数据。这对于评估模型在新数据上的泛化能力非常有用,即模型在未见过的数据上\n",
    "#的表现能力。通过比较问题1和问题2的答案，我们可以了解模型在训练集和测试集上的表现差异。如果问题1和问题2的答案相似，则表明模型在训练集和测\n",
    "#试集上的表现一致，具有较好的泛化能力。然而，如果问题1和问题2的答案差异较大，则表明模型可能过拟合了训练数据，对于新数据的预测效果可能较差。\n",
    "#因此，问题1和问题2的答案之间的异同可以提供关于模型的泛化能力和过拟合情况的有用信息，帮助我们选择最适合的模型并评估其预测性能。"
   ]
  },
  {
   "cell_type": "markdown",
   "metadata": {},
   "source": [
    "## 练习2 人工神经网络\n",
    "\n",
    "有如下神经网络：\n",
    "- 输入$x$是2维向量，输出$y$是1维标量\n",
    "- 包含两个全连接层\n",
    "    - 第一层有5个神经元，激活函数为sigmoid\n",
    "    - 第二层有1个神经元，激活函数为relu\n",
    "- 损失函数为均方差MSE"
   ]
  },
  {
   "cell_type": "markdown",
   "metadata": {},
   "source": [
    "### 2.1 写出公式\n",
    "\n",
    "- 写出relu、sigmoid函数的公式\n",
    "- 写出整个神经网络的公式"
   ]
  },
  {
   "cell_type": "code",
   "execution_count": null,
   "metadata": {},
   "outputs": [],
   "source": [
    "#ReLU函数的公式：\n",
    "ReLU(x) = max(0, x)\n",
    "\n",
    "#Sigmoid函数的公式：\n",
    "Sigmoid(x) = 1 / (1 + exp(-x))\n",
    "\n",
    "#设输入为x，第一层的权重为W1，偏置为b1，第二层的权重为W2，偏置为b2。整个神经网络的公式可以表示为：\n",
    "\n",
    "z1 = x.dot(W1) + b1\n",
    "a1 = sigmoid(z1)\n",
    "z2 = a1.dot(W2) + b2\n",
    "y_pred = relu(z2)\n"
   ]
  },
  {
   "cell_type": "markdown",
   "metadata": {},
   "source": [
    "### 2.2 正向传播\n",
    "\n",
    "假设已知4个数据点的输入'X'，参考输出'Y'，参数'W_1'、'B_1'、'W_2'、'B_2'，。\n",
    "\n",
    "- 正向传播计算输出预测值'Y_pred'\n",
    "- 计算损失值'L'\n"
   ]
  },
  {
   "cell_type": "code",
   "execution_count": 9,
   "metadata": {},
   "outputs": [],
   "source": [
    "X = np.array([[-0.05025071,  1.12345037],\n",
    "       [-1.2771336 , -0.03387919],\n",
    "       [-0.06085093,  0.83960333],\n",
    "       [ 0.26666122, -0.15723225]])"
   ]
  },
  {
   "cell_type": "markdown",
   "metadata": {},
   "source": [
    "注意，这里输入'x'表示为行向量，即'X'中每行表示一个数据点。"
   ]
  },
  {
   "cell_type": "code",
   "execution_count": 10,
   "metadata": {},
   "outputs": [],
   "source": [
    "Y = np.array([[ 0.34942997],\n",
    "       [ 0.09796396],\n",
    "       [ 1.80617515],\n",
    "       [-0.50698293]])"
   ]
  },
  {
   "cell_type": "code",
   "execution_count": 11,
   "metadata": {},
   "outputs": [],
   "source": [
    "W1 = np.random.randn(2,5)\n",
    "b1 = np.random.randn(5)\n",
    "W2 = np.random.randn(5,1)\n",
    "b2 = np.random.randn(1,1)"
   ]
  },
  {
   "cell_type": "code",
   "execution_count": 12,
   "metadata": {},
   "outputs": [],
   "source": [
    "W1 = np.array([[-0.15772071,  2.4169384 ,  1.18656177,  0.74048303,  0.95473468],\n",
    "       [ 1.75613621,  0.44768404,  0.25003215,  0.52863169, -0.75204543]])"
   ]
  },
  {
   "cell_type": "code",
   "execution_count": 13,
   "metadata": {},
   "outputs": [],
   "source": [
    "b1 = np.array([-1.00393578, -0.19942106, -1.23939537,  1.62336519, -0.21580562])"
   ]
  },
  {
   "cell_type": "code",
   "execution_count": 14,
   "metadata": {},
   "outputs": [],
   "source": [
    "W2 = np.array([[ 0.8173788 ],\n",
    "       [-0.01165333],\n",
    "       [ 1.10703394],\n",
    "       [ 0.90372372],\n",
    "       [ 0.86510315]])"
   ]
  },
  {
   "cell_type": "code",
   "execution_count": 15,
   "metadata": {},
   "outputs": [],
   "source": [
    "b2 = np.array([[0.277288]])"
   ]
  },
  {
   "cell_type": "markdown",
   "metadata": {},
   "source": [
    "### 2.3 方向传播\n",
    "\n",
    "计算损失值'L'对参数'W_1'、'B_1'、'W_2'、'B_2'的偏导数。"
   ]
  },
  {
   "cell_type": "markdown",
   "metadata": {},
   "source": []
  },
  {
   "cell_type": "code",
   "execution_count": 27,
   "metadata": {},
   "outputs": [
    {
     "name": "stdout",
     "output_type": "stream",
     "text": [
      "Y_pred:\n",
      "[[2.18514844]\n",
      " [1.35081552]\n",
      " [2.09965131]\n",
      " [1.98338406]]\n",
      "L: 2.80688883177308\n",
      "dL_dW1:\n",
      "[[-0.10062818 -0.00045547  0.01227741 -0.12888547 -0.04684264]\n",
      " [ 0.16104007 -0.00277893  0.20342634  0.06970365  0.14329457]]\n",
      "dL_db1:\n",
      "[ 0.45340951 -0.00683274  0.54292804  0.35971905  0.52730517]\n",
      "dL_dW2:\n",
      "[[1.20554195]\n",
      " [1.33518175]\n",
      " [0.66155887]\n",
      " [2.42607152]\n",
      " [1.0643283 ]]\n",
      "dL_db2:\n",
      "[2.93620659]\n"
     ]
    }
   ],
   "source": [
    "import numpy as np\n",
    "\n",
    "# 定义ReLU函数\n",
    "def relu(x):\n",
    "    return np.maximum(0, x)\n",
    "\n",
    "# 定义Sigmoid函数\n",
    "def sigmoid(x):\n",
    "    return 1 / (1 + np.exp(-x))\n",
    "\n",
    "# 输入数据点X\n",
    "X = np.array([[-0.05025071,  1.12345037],\n",
    "              [-1.2771336 , -0.03387919],\n",
    "              [-0.06085093,  0.83960333],\n",
    "              [ 0.26666122, -0.15723225]])\n",
    "\n",
    "# 参考输出Y\n",
    "Y = np.array([[ 0.34942997],\n",
    "              [ 0.09796396],\n",
    "              [ 1.80617515],\n",
    "              [-0.50698293]])\n",
    "\n",
    "# 初始化参数\n",
    "W1 = np.array([[-0.15772071,   2.4169384 ,   1.18656177,   0.74048303,   0.95473468],\n",
    "               [ 1.75613621,   0.44768404,   0.25003215,   0.52863169,  -0.75204543]])\n",
    "b1 = np.array([-1.00393578, -0.19942106, -1.23939537,  1.62336519, -0.21580562])\n",
    "W2 = np.array([[ 0.8173788 ],\n",
    "               [-0.01165333],\n",
    "               [ 1.10703394],\n",
    "               [ 0.90372372],\n",
    "               [ 0.86510315]])\n",
    "b2 = np.array([[0.277288]])\n",
    "\n",
    "# 正向传播计算预测值Y_pred\n",
    "z1 = X.dot(W1) + b1\n",
    "a1 = sigmoid(z1)\n",
    "z2 = a1.dot(W2) + b2\n",
    "Y_pred = relu(z2)\n",
    "\n",
    "# 计算均方差损失值L\n",
    "L = np.mean((Y - Y_pred) ** 2)\n",
    "\n",
    "# 计算W1、W2、b1和b2的偏导数\n",
    "dL_dY_pred = -2 * (Y - Y_pred) / len(Y)\n",
    "dY_pred_dz2 = np.where(z2 > 0, 1, 0)\n",
    "dL_dz2 = dL_dY_pred * dY_pred_dz2\n",
    "dL_da1 = dL_dz2.dot(W2.T)\n",
    "da1_dz1 = sigmoid(z1) * (1 - sigmoid(z1))\n",
    "dL_dz1 = dL_da1 * da1_dz1\n",
    "# 计算W1的偏导数\n",
    "dL_dW1 = X.T.dot(dL_dz1)\n",
    "# 计算b1的偏导数\n",
    "dL_db1 = np.sum(dL_dz1, axis=0)\n",
    "# 计算W2的偏导数\n",
    "dL_dW2 = a1.T.dot(dL_dz2)\n",
    "# 计算b2的偏导数\n",
    "dL_db2 = np.sum(dL_dz2, axis=0)\n",
    "\n",
    "print(\"Y_pred:\")\n",
    "print(Y_pred)\n",
    "print(\"L:\", L)\n",
    "print(\"dL_dW1:\")\n",
    "print(dL_dW1)\n",
    "print(\"dL_db1:\")\n",
    "print(dL_db1)\n",
    "print(\"dL_dW2:\")\n",
    "print(dL_dW2)\n",
    "print(\"dL_db2:\")\n",
    "print(dL_db2)\n",
    "#Y_pred是预测值，L是损失值，dL_dW1,dL_db1,dL_dW2,dL_db2分别是W1,B1,W2，B2的偏导数"
   ]
  },
  {
   "cell_type": "code",
   "execution_count": null,
   "metadata": {},
   "outputs": [],
   "source": [
    "所以预测值为Y_pred:[2.18514844][1.35081552][2.09965131][1.98338406]\n",
    "损失值为L: 2.80688883177308\n",
    "W1的偏导数:[[-0.10062818 -0.00045547  0.01227741 -0.12888547 -0.04684264][ 0.16104007 -0.00277893  0.20342634  0.06970365  0.14329457]]\n",
    "B1的偏导数:[ 0.45340951 -0.00683274  0.54292804  0.35971905  0.52730517]\n",
    "W2的偏导数:[[1.20554195][1.33518175][0.66155887][2.42607152][1.0643283 ]]\n",
    "B2的偏导数:[2.93620659]"
   ]
  }
 ],
 "metadata": {
  "kernelspec": {
   "display_name": "Python 3 (ipykernel)",
   "language": "python",
   "name": "python3"
  },
  "language_info": {
   "codemirror_mode": {
    "name": "ipython",
    "version": 3
   },
   "file_extension": ".py",
   "mimetype": "text/x-python",
   "name": "python",
   "nbconvert_exporter": "python",
   "pygments_lexer": "ipython3",
   "version": "3.9.13"
  }
 },
 "nbformat": 4,
 "nbformat_minor": 2
}
