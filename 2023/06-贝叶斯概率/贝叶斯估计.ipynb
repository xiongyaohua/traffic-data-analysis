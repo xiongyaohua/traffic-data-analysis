{
 "cells": [
  {
   "cell_type": "markdown",
   "id": "e62dac78",
   "metadata": {},
   "source": [
    "# 贝叶斯估计"
   ]
  },
  {
   "cell_type": "markdown",
   "id": "78355fc0",
   "metadata": {},
   "source": [
    "## 条件概率"
   ]
  },
  {
   "cell_type": "markdown",
   "id": "57b1ae86",
   "metadata": {},
   "source": [
    "已知事$A$件发⽣时,事件$B$发⽣的概率$P(B\\mid A)$称为条件概率,两个事件同时发⽣的概率$P(AB)$称为联合概率，条件概率与联合概率的基本关系是$P(AB)=P(A)P(B|A)$,即$A$、$B$两个事件同时发生的概率$P(AB)$，等于$A$事件单独发生的概率$P(A)$乘以$A$事件发生的条件下$B$事件发生的概率$P(B|A)$。由此可以得到：$$P(B|A)=\\frac{P(A|B)P(B)}{P(A)}$$"
   ]
  },
  {
   "cell_type": "markdown",
   "id": "e3c1f792",
   "metadata": {},
   "source": [
    "## 贝叶斯公式"
   ]
  },
  {
   "cell_type": "markdown",
   "id": "c3ad8f9c",
   "metadata": {},
   "source": [
    "对于给定的假说$H$和数据$D$,贝叶斯公式为：$$P(H|D)=\\frac{P(D|H)P(H)}{P(D)}$$\n",
    "$P(H|D)$:后验概率，观察到数据成立的情况下假说发生的概率\\\n",
    "$P(H)$:先验概率，指在没有数据的情况下仅凭经验猜测假说成立的概率\\\n",
    "$P(D/H)$:似然概率，在假说成立的情况下观察到数据的概率\\\n",
    "$P(D)$:全体概率，在不考虑假说的概率下观察到数据的概率\\\n",
    "现实中我们并不关心$P(D)$的概率，因此贝叶斯公式可以写为：$ P(H|D)\\propto P(D|H)P(H)$\\\n",
    "贝叶斯公式告诉我们猜测的概率乘以数据的似然⽐例等于修正后的概率"
   ]
  },
  {
   "cell_type": "markdown",
   "id": "1a2ef746",
   "metadata": {},
   "source": [
    "## 应用示例"
   ]
  },
  {
   "cell_type": "markdown",
   "id": "da3da0e6",
   "metadata": {},
   "source": [
    "设$θ$是一批产品的不合格率,已知它不是$0.1$就是$0.2$，且其先验分布为$π(0.1)=0.7$,$π(0.2)=0.3$假如从这批产品中随机取8个进行检查，发现有2个不合格，求$θ$的后验分布"
   ]
  },
  {
   "cell_type": "markdown",
   "id": "d6d8750f",
   "metadata": {},
   "source": [
    "先验概率$P(θ=0.1)=0.7 \\quad P(θ=0.2)=0.3$\\\n",
    "似然概率$P(D/θ=0.1)=C_{8}^{2}0.1^2(1-0.1)^6\\approx 0.1488 \\quad P(D/θ=0.2)=C_{8}^{2}0.2^2(1-0.2)^6\\approx 0.2936$\\\n",
    "后验概率$P(θ=0.1/D)=\\frac{P(θ=0.1)\\times P(D/θ=0.1)}{P(θ=0.1)\\times P(D/θ=0.1)+P(θ=0.2)\\times P(D/θ=0.2)}\\approx 0.542$\\\n",
    "$P(θ=0.2/D)=\\frac{P(θ=0.2)\\times P(D/θ=0.2)}{P(θ=0.1)\\times P(D/θ=0.1)+P(θ=0.2)\\times P(D/θ=0.2)}\\approx 0.458$"
   ]
  },
  {
   "cell_type": "code",
   "execution_count": null,
   "id": "c30e57c7",
   "metadata": {},
   "outputs": [],
   "source": []
  }
 ],
 "metadata": {
  "kernelspec": {
   "display_name": "Python 3 (ipykernel)",
   "language": "python",
   "name": "python3"
  },
  "language_info": {
   "codemirror_mode": {
    "name": "ipython",
    "version": 3
   },
   "file_extension": ".py",
   "mimetype": "text/x-python",
   "name": "python",
   "nbconvert_exporter": "python",
   "pygments_lexer": "ipython3",
   "version": "3.11.1"
  }
 },
 "nbformat": 4,
 "nbformat_minor": 5
}