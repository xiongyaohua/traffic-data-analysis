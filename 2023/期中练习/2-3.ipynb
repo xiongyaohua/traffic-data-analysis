{
 "cells": [
  {
   "cell_type": "markdown",
   "metadata": {},
   "source": [
    "# 期中练习\n",
    "\n",
    "## 要求\n",
    "\n",
    "检验对上半学期知识的掌握，课后自行完成，可查阅各种资料。\n",
    "\n",
    "### 如何提交\n",
    "\n",
    "- 复制本文件，文件名改为`教学班号-编号.ipynb`。例如刘国强同学是2班第15号，文件名应改为`2-15.ipynb`。\n",
    "- 在复制文件中答题，每道题的答案紧接题目。\n",
    "- 答题结束后commit该文件，并提交pull request。\n",
    "\n"
   ]
  },
  {
   "cell_type": "code",
   "execution_count": 20,
   "metadata": {
    "ExecuteTime": {
     "end_time": "2023-05-29T15:26:54.309596900Z",
     "start_time": "2023-05-29T15:26:54.231770900Z"
    }
   },
   "outputs": [],
   "source": [
    "import numpy as np\n",
    "import matplotlib.pyplot as plt"
   ]
  },
  {
   "cell_type": "markdown",
   "metadata": {},
   "source": [
    "## 练习1\n",
    "\n",
    "为了分析自变量$x$和因变量$y$的关系，通过测量得到带误差的20个样本数据如下所示"
   ]
  },
  {
   "cell_type": "code",
   "execution_count": 21,
   "metadata": {
    "ExecuteTime": {
     "end_time": "2023-05-29T15:26:54.387740300Z",
     "start_time": "2023-05-29T15:26:54.251715500Z"
    }
   },
   "outputs": [],
   "source": [
    "X = np.array([ 0.70846042, -0.68388789,  1.03780474,  1.08334621,  0.77026309,\n",
    "        0.19722004, -0.46819526, -0.45270204,  0.02362673,  0.06549472,\n",
    "        0.08898416,  0.59424455, -0.26400365,  0.2456922 ,  0.5114847 ,\n",
    "       -0.31604016, -1.49329364,  1.24112288,  1.01993764,  1.75634392])"
   ]
  },
  {
   "cell_type": "code",
   "execution_count": 22,
   "metadata": {
    "ExecuteTime": {
     "end_time": "2023-05-29T15:26:54.389735Z",
     "start_time": "2023-05-29T15:26:54.265678400Z"
    }
   },
   "outputs": [],
   "source": [
    "Y = np.array([ 4.49682518,  3.5737603 ,  7.93568197,  3.58719009,  5.38341441,\n",
    "        5.47930021, -0.9861325 , -0.15686681,  2.36963799,  4.01600211,\n",
    "       -0.20329642,  3.07728831, -1.30408343,  2.84796441,  2.27915787,\n",
    "        2.62078689, -1.2855133 ,  4.39242028,  6.24385669,  6.00822241])"
   ]
  },
  {
   "cell_type": "code",
   "execution_count": 23,
   "metadata": {
    "ExecuteTime": {
     "end_time": "2023-05-29T15:26:54.396716500Z",
     "start_time": "2023-05-29T15:26:54.281642900Z"
    }
   },
   "outputs": [
    {
     "data": {
      "text/plain": [
       "[<matplotlib.lines.Line2D at 0x1add5d8acd0>]"
      ]
     },
     "execution_count": 23,
     "metadata": {},
     "output_type": "execute_result"
    },
    {
     "data": {
      "image/png": "[encoded data removed]",
      "text/plain": [
       "<Figure size 640x480 with 1 Axes>"
      ]
     },
     "metadata": {},
     "output_type": "display_data"
    }
   ],
   "source": [
    "plt.plot(X, Y, \".\")"
   ]
  },
  {
   "cell_type": "markdown",
   "metadata": {},
   "source": [
    "### 1.1 划分训练集和测试集\n",
    "\n",
    "将20个数据点划分为训练集和测试集，期中训练集为前15个数据点，测试集为后5个。"
   ]
  },
  {
   "cell_type": "code",
   "execution_count": 24,
   "metadata": {
    "ExecuteTime": {
     "end_time": "2023-05-29T15:26:54.397714500Z",
     "start_time": "2023-05-29T15:26:54.375774900Z"
    },
    "collapsed": false,
    "jupyter": {
     "outputs_hidden": false
    }
   },
   "outputs": [],
   "source": [
    "train_x=X[:15]\n",
    "train_y=Y[:15]\n",
    "test_x=X[15:]\n",
    "test_y=Y[15:]"
   ]
  },
  {
   "cell_type": "markdown",
   "metadata": {},
   "source": [
    "### 1.2 数据建模\n",
    "\n",
    "分别用1到4次多项式函数作为模型拟合训练集中的数据，并分别计算每个模型与数据的均方差（MSE）。\n",
    "\n",
    "哪一个模型与训练数据拟合最好？"
   ]
  },
  {
   "cell_type": "code",
   "execution_count": 25,
   "metadata": {
    "ExecuteTime": {
     "end_time": "2023-05-29T15:26:54.419654900Z",
     "start_time": "2023-05-29T15:26:54.391729500Z"
    },
    "collapsed": false,
    "jupyter": {
     "outputs_hidden": false
    }
   },
   "outputs": [],
   "source": [
    "def polynomial_regression(x,y,x_test,y_test,n) :\n",
    "    # 构造多项式矩阵\n",
    "    def polynomial_matrix(x, n):\n",
    "        m=x.shape[0]\n",
    "        A=np.zeros((m,n+1))\n",
    "        for i in range(n,-1,-1):\n",
    "            A[:,n-i]=x**i\n",
    "        return A\n",
    "\n",
    "    def polynomial_fit_matrix(x,y,n):\n",
    "        A=polynomial_matrix(x,n)\n",
    "        ATA=A.T @ A\n",
    "        ATY=A.T @ y\n",
    "        theta=np.linalg.solve(ATA,ATY)\n",
    "        return theta\n",
    "\n",
    "    #得到系数矩阵\n",
    "    theta=polynomial_fit_matrix(x,y,n)\n",
    "\n",
    "    #预测值\n",
    "    def predict_(test_data,theta,n):\n",
    "        A_pre=polynomial_matrix(test_data,n )#构造预测数据的多项式矩阵\n",
    "        y_pre=A_pre@theta\n",
    "        return y_pre.T\n",
    "\n",
    "    y_prd=predict_(x_test,theta,n)\n",
    "\n",
    "    #计算mse\n",
    "    MSE_=np.mean(np.square(y_prd-y_test.T))\n",
    "\n",
    "    return theta,y_prd,MSE_\n",
    "\n",
    "\n"
   ]
  },
  {
   "cell_type": "code",
   "execution_count": 26,
   "metadata": {
    "ExecuteTime": {
     "end_time": "2023-05-29T15:26:54.498448100Z",
     "start_time": "2023-05-29T15:26:54.408684900Z"
    },
    "collapsed": false,
    "jupyter": {
     "outputs_hidden": false
    }
   },
   "outputs": [
    {
     "name": "stdout",
     "output_type": "stream",
     "text": [
      "1次多项式拟合: MSE=3.6141199809365925\n",
      "2次多项式拟合: MSE=3.4709875708912987\n",
      "3次多项式拟合: MSE=3.010246815533374\n",
      "4次多项式拟合: MSE=2.3971661654711824\n"
     ]
    }
   ],
   "source": [
    "#模型训练，计算mse\n",
    "theta_1,y_prd1,mse_1=polynomial_regression(train_x,train_y,train_x,train_y,1)\n",
    "print(\"1次多项式拟合: MSE={}\".format(mse_1))\n",
    "theta_2,y_prd2,mse_2=polynomial_regression(train_x,train_y,train_x,train_y,2)\n",
    "print(\"2次多项式拟合: MSE={}\".format(mse_2))\n",
    "theta_3,y_prd3,mse_3=polynomial_regression(train_x,train_y,train_x,train_y,3)\n",
    "print(\"3次多项式拟合: MSE={}\".format(mse_3))\n",
    "theta_4,y_prd4,mse_4=polynomial_regression(train_x,train_y,train_x,train_y,4)\n",
    "print(\"4次多项式拟合: MSE={}\".format(mse_4))"
   ]
  },
  {
   "cell_type": "markdown",
   "metadata": {},
   "source": [
    "### 可以看出模型4次多项式拟合的拟合程度更好"
   ]
  },
  {
   "cell_type": "markdown",
   "metadata": {},
   "source": [
    "## 1.3 模型测试\n",
    "计算4个模型与测试数据的均方差，哪一个模型与测试数据拟合最好？"
   ]
  },
  {
   "cell_type": "code",
   "execution_count": 27,
   "metadata": {
    "ExecuteTime": {
     "end_time": "2023-05-29T15:26:54.509417600Z",
     "start_time": "2023-05-29T15:26:54.423644900Z"
    },
    "collapsed": false,
    "jupyter": {
     "outputs_hidden": false
    }
   },
   "outputs": [
    {
     "name": "stdout",
     "output_type": "stream",
     "text": [
      "1次多项式拟合: MSE=1.9373288022689104\n",
      "2次多项式拟合: MSE=6.9248859162616485\n",
      "3次多项式拟合: MSE=145.53829178692104\n",
      "4次多项式拟合: MSE=2717.4997768004077\n"
     ]
    }
   ],
   "source": [
    "theta_1,y_prd1_test,mse_1_tset=polynomial_regression(train_x,train_y,test_x,test_y,1)\n",
    "print(\"1次多项式拟合: MSE={}\".format(mse_1_tset))\n",
    "theta_2,y_prd2_test,mse_2_test=polynomial_regression(train_x,train_y,test_x,test_y,2)\n",
    "print(\"2次多项式拟合: MSE={}\".format(mse_2_test))\n",
    "theta_3,y_prd3_test,mse_3_test=polynomial_regression(train_x,train_y,test_x,test_y,3)\n",
    "print(\"3次多项式拟合: MSE={}\".format(mse_3_test))\n",
    "theta_4,y_prd4_tset,mse_4_test=polynomial_regression(train_x,train_y,test_x,test_y,4)\n",
    "print(\"4次多项式拟合: MSE={}\".format(mse_4_test))"
   ]
  },
  {
   "cell_type": "code",
   "execution_count": 28,
   "metadata": {
    "ExecuteTime": {
     "end_time": "2023-05-29T15:26:54.625107900Z",
     "start_time": "2023-05-29T15:26:54.455559Z"
    },
    "collapsed": false,
    "jupyter": {
     "outputs_hidden": false
    }
   },
   "outputs": [
    {
     "data": {
      "text/plain": [
       "(-5.0, 35.0)"
      ]
     },
     "execution_count": 28,
     "metadata": {},
     "output_type": "execute_result"
    },
    {
     "data": {
      "image/png": "[encoded data removed]",
      "text/plain": [
       "<Figure size 1000x500 with 1 Axes>"
      ]
     },
     "metadata": {},
     "output_type": "display_data"
    }
   ],
   "source": [
    "\n",
    "plt.rcParams['font.family'] = 'Microsoft YaHei'  # 指定中文字体为微软雅黑\n",
    "plt.rcParams['axes.unicode_minus'] = False  # 解决负号显示问题\n",
    "\n",
    "\n",
    "def polynomial_matrix(x, n):\n",
    "    m=x.shape[0]\n",
    "    A=np.zeros((m,n+1))\n",
    "    for i in range(n,-1,-1):\n",
    "        A[:,n-i]=x**i\n",
    "    return A\n",
    "\n",
    "def nihe_lines(theta,n):\n",
    "    X=np.linspace(-2,2.5,100)\n",
    "    X_matrix=polynomial_matrix(X,n)\n",
    "    Y=X_matrix@theta\n",
    "    plt.plot(X,Y,'-',label=\"{}次拟合\".format(n))\n",
    "plt.figure(figsize=(10,5))\n",
    "nihe_lines(theta_1,1)\n",
    "nihe_lines(theta_2,2)\n",
    "nihe_lines(theta_3,3)\n",
    "nihe_lines(theta_4,4)\n",
    "plt.plot(train_x,train_y,'.',label=\"训练集\",markersize=10)\n",
    "plt.plot(test_x,test_y,'r.',label=\"测试集\",markersize=10)\n",
    "plt.title('多项式拟合图像')\n",
    "plt.legend()\n",
    "plt.ylim(-5,35)"
   ]
  },
  {
   "cell_type": "markdown",
   "metadata": {},
   "source": [
    "1.2和1.3的答案是否相同？两者的异同有什么意义？"
   ]
  },
  {
   "cell_type": "markdown",
   "metadata": {},
   "source": [
    "### 答案不同\n",
    "### 1.2计算模型与训练集的均方误差值的大小表现的是模型对于训练集的拟合程度，MSE小说明模型的拟合好，但是在测试集上，随着多项式次数的增高，均方误差逐渐增大。当模型在训练集上表现优秀但在测试集上表现较差时但是不能完全反应模型对于预测数据的预测能力，容易出现过拟合的现象，说明模型的拟合能力、泛化能力并不是随着多项式次数的增加而增加。在这种情况下，我们需要尝试简化模型或者采取其他方法来解决过拟合问题，例如正则化、增加数据集等来解决。\n",
    "### 1.3计算模型与测试集的均方误差值的大小表现的是模型对于测试集的预测能力，MSE越小说明模型的泛化能力强，对于未知数据的预测准确度很高，能够表现模型的好坏程度"
   ]
  },
  {
   "cell_type": "markdown",
   "metadata": {},
   "source": [
    "## 练习2 人工神经网络\n",
    "\n",
    "有如下神经网络：\n",
    "- 输入$x$是2维向量，输出$y$是1维标量\n",
    "- 包含两个全连接层\n",
    "    - 第一层有5个神经元，激活函数为sigmoid\n",
    "    - 第二层有1个神经元，激活函数为relu\n",
    "- 损失函数为均方差MSE"
   ]
  },
  {
   "cell_type": "markdown",
   "metadata": {},
   "source": [
    "### 2.1 写出公式\n",
    "\n",
    "- 写出relu、sigmoid函数的公式\n",
    "- 写出整个神经网络的公式"
   ]
  },
  {
   "cell_type": "markdown",
   "metadata": {},
   "source": [
    "### ReLU函数的公式为：\n",
    "$$ f(x) = \\max(0, x) $$\n",
    "### Sigmoid函数公式\n",
    "$$ \\sigma(x) = \\frac{1}{1 + e^{-x}} $$\n"
   ]
  },
  {
   "cell_type": "markdown",
   "metadata": {},
   "source": [
    "### 写出整个神经网络的公式\n",
    "\n",
    "$$y=\\text{ReLU}(W_2\\sigma(W_1x+b_1)+b_2)$$\n",
    "其中，$x$是输入向量，$W_1$和$b_1$是第一层的权重和偏置,$W_2$和$b_2$是第二层的权重和偏置，$y$是最终输出的标量，$\\sigma$是是Sigmoid激活函数，$\\text{ReLU}$是ReLU激活函数。\n",
    "\n"
   ]
  },
  {
   "cell_type": "markdown",
   "metadata": {},
   "source": [
    "### 2.2 正向传播\n",
    "\n",
    "假设已知4个数据点的输入'X'，参考输出'Y'，参数'W_1'、'B_1'、'W_2'、'B_2'，。\n",
    "\n",
    "- 正向传播计算输出预测值'Y_pred'\n",
    "- 计算损失值'L'\n"
   ]
  },
  {
   "cell_type": "code",
   "execution_count": 29,
   "metadata": {
    "ExecuteTime": {
     "end_time": "2023-05-29T15:26:54.699831800Z",
     "start_time": "2023-05-29T15:26:54.628097900Z"
    }
   },
   "outputs": [],
   "source": [
    "X = np.array([[-0.05025071,  1.12345037],\n",
    "       [-1.2771336 , -0.03387919],\n",
    "       [-0.06085093,  0.83960333],\n",
    "       [ 0.26666122, -0.15723225]])"
   ]
  },
  {
   "cell_type": "markdown",
   "metadata": {},
   "source": [
    "注意，这里输入'x'表示为行向量，即'X'中每行表示一个数据点。"
   ]
  },
  {
   "cell_type": "code",
   "execution_count": 30,
   "metadata": {
    "ExecuteTime": {
     "end_time": "2023-05-29T15:26:54.700813700Z",
     "start_time": "2023-05-29T15:26:54.641067100Z"
    }
   },
   "outputs": [],
   "source": [
    "Y = np.array([[ 0.34942997],\n",
    "       [ 0.09796396],\n",
    "       [ 1.80617515],\n",
    "       [-0.50698293]])"
   ]
  },
  {
   "cell_type": "code",
   "execution_count": 31,
   "metadata": {
    "ExecuteTime": {
     "end_time": "2023-05-29T15:26:54.712798900Z",
     "start_time": "2023-05-29T15:26:54.671900800Z"
    }
   },
   "outputs": [],
   "source": [
    "W1 = np.random.randn(2,5)\n",
    "b1 = np.random.randn(5)\n",
    "W2 = np.random.randn(5,1)\n",
    "b2 = np.random.randn(1,1)"
   ]
  },
  {
   "cell_type": "code",
   "execution_count": 32,
   "metadata": {
    "ExecuteTime": {
     "end_time": "2023-05-29T15:26:54.718742200Z",
     "start_time": "2023-05-29T15:26:54.703809400Z"
    }
   },
   "outputs": [],
   "source": [
    "W1 = np.array([[-0.15772071,  2.4169384 ,  1.18656177,  0.74048303,  0.95473468],\n",
    "       [ 1.75613621,  0.44768404,  0.25003215,  0.52863169, -0.75204543]])"
   ]
  },
  {
   "cell_type": "code",
   "execution_count": 33,
   "metadata": {
    "ExecuteTime": {
     "end_time": "2023-05-29T15:26:54.750656800Z",
     "start_time": "2023-05-29T15:26:54.719741200Z"
    }
   },
   "outputs": [],
   "source": [
    "b1 = np.array([-1.00393578, -0.19942106, -1.23939537,  1.62336519, -0.21580562])"
   ]
  },
  {
   "cell_type": "code",
   "execution_count": 34,
   "metadata": {
    "ExecuteTime": {
     "end_time": "2023-05-29T15:26:54.764947700Z",
     "start_time": "2023-05-29T15:26:54.750656800Z"
    }
   },
   "outputs": [],
   "source": [
    "W2 = np.array([[ 0.8173788 ],\n",
    "       [-0.01165333],\n",
    "       [ 1.10703394],\n",
    "       [ 0.90372372],\n",
    "       [ 0.86510315]])"
   ]
  },
  {
   "cell_type": "code",
   "execution_count": 35,
   "metadata": {
    "ExecuteTime": {
     "end_time": "2023-05-29T15:26:54.785070900Z",
     "start_time": "2023-05-29T15:26:54.765947300Z"
    }
   },
   "outputs": [],
   "source": [
    "b2 = np.array([[0.277288]])"
   ]
  },
  {
   "cell_type": "code",
   "execution_count": 36,
   "metadata": {
    "ExecuteTime": {
     "end_time": "2023-05-29T15:26:54.799030700Z",
     "start_time": "2023-05-29T15:26:54.782079300Z"
    },
    "collapsed": false,
    "jupyter": {
     "outputs_hidden": false
    }
   },
   "outputs": [
    {
     "name": "stdout",
     "output_type": "stream",
     "text": [
      "神经网络输出预测值:\n",
      " [[2.18514844]\n",
      " [1.35081552]\n",
      " [2.09965131]\n",
      " [1.98338406]]\n",
      "均方差损失: 2.80688883177308\n"
     ]
    }
   ],
   "source": [
    "import numpy as np\n",
    "\n",
    "# 定义激活函数\n",
    "def sigmoid(x):\n",
    "    return 1 / (1 + np.exp(-x))\n",
    "\n",
    "def relu(x):\n",
    "    return np.maximum(0, x)\n",
    "\n",
    "# 定义神经网络\n",
    "def neural_network(x,W1,B1,W2,B2):\n",
    "\n",
    "    # 前向传播\n",
    "    z1 = np.dot(x , W1) + B1\n",
    "    a1 = sigmoid(z1)\n",
    "\n",
    "    z2 = np.dot( a1,W2) + B2\n",
    "    y = relu(z2)\n",
    "\n",
    "    return y,z1,z2,a1\n",
    "\n",
    "# 计算均方差损失\n",
    "def mse_loss(y_pred, y_true):\n",
    "    return np.mean(np.square(y_pred - y_true))\n",
    "\n",
    "\n",
    "\n",
    "# 运行神经网络\n",
    "y_pred,z1,z2,a1 = neural_network(X ,W1,b1,W2,b2)\n",
    "\n",
    "# 计算均方差损失\n",
    "loss = mse_loss(y_pred, Y)\n",
    "\n",
    "print(\"神经网络输出预测值:\\n\", y_pred)\n",
    "print(\"均方差损失:\", loss)\n"
   ]
  },
  {
   "cell_type": "markdown",
   "metadata": {},
   "source": [
    "### 2.3 方向传播\n",
    "\n",
    "计算损失值'L'对参数'W_1'、'B_1'、'W_2'、'B_2'的偏导数。"
   ]
  },
  {
   "cell_type": "code",
   "execution_count": 37,
   "metadata": {
    "ExecuteTime": {
     "end_time": "2023-05-29T15:26:54.850941900Z",
     "start_time": "2023-05-29T15:26:54.799030700Z"
    },
    "collapsed": false,
    "jupyter": {
     "outputs_hidden": false
    }
   },
   "outputs": [
    {
     "name": "stdout",
     "output_type": "stream",
     "text": [
      "dL/dW1:\n",
      " [[-0.40251271 -0.00182187  0.04910962 -0.51554188 -0.18737055]\n",
      " [ 0.64416028 -0.01111573  0.81370538  0.2788146   0.57317828]]\n",
      "dL/dB1:\n",
      " [ 1.81363805 -0.02733097  2.17171217  1.43887619  2.10922068]\n",
      "dL/dW2:\n",
      " [[4.8221678 ]\n",
      " [5.34072698]\n",
      " [2.64623548]\n",
      " [9.70428608]\n",
      " [4.25731321]]\n",
      "dL/dB2:\n",
      " [11.74482637]\n"
     ]
    }
   ],
   "source": [
    "def backward_propagation(x, y_pred, y_true, z1, z2, a1, W1, W2):\n",
    "\n",
    "    # 计算输出层的梯度\n",
    "    dL_dz2 = 2 * (y_pred - y_true)  # 损失函数对输出层输入的导数\n",
    "    dz2_dw2 = a1  # 输出层输入对权重W2的导数\n",
    "    dL_dw2 = np.dot(dz2_dw2.T, dL_dz2)  # 损失函数对W2的导数\n",
    "    dL_db2 = np.sum(dL_dz2, axis=0)  # 损失函数对b2的导数\n",
    "\n",
    "    # 计算隐藏层的梯度\n",
    "    dz2_da1 = W2  # 输出层输入对隐藏层输出的导数\n",
    "    da1_dz1 = sigmoid(z1) * (1 - sigmoid(z1))  # 隐藏层输出对隐藏层输入的导数      根据Sigmoid函数的导数性质，导数等于Sigmoid函数值乘以1减去Sigmoid函数值本身。\n",
    "    dz1_dw1 = x  # 隐藏层输入对权重W1的导数\n",
    "    dL_da1 = np.dot(dL_dz2, dz2_da1.T)  # 损失函数对隐藏层输出的导数\n",
    "    dL_dz1 = dL_da1 * da1_dz1  # 损失函数对隐藏层输入的导数\n",
    "    dL_dw1 = np.dot(dz1_dw1.T, dL_dz1)  # 损失函数对W1的导数\n",
    "    dL_db1 = np.sum(dL_dz1, axis=0)  # 损失函数对b1的导数\n",
    "\n",
    "    return dL_dw1, dL_db1, dL_dw2, dL_db2\n",
    "\n",
    "dL_dw1, dL_db1, dL_dw2, dL_db2 = backward_propagation(X, y_pred, Y, z1, z2, a1, W1, W2)\n",
    "\n",
    "print(\"dL/dW1:\\n\", dL_dw1)\n",
    "print(\"dL/dB1:\\n\", dL_db1)\n",
    "print(\"dL/dW2:\\n\", dL_dw2)\n",
    "print(\"dL/dB2:\\n\", dL_db2)\n"
   ]
  },
  {
   "cell_type": "markdown",
   "metadata": {},
   "source": []
  },
  {
   "cell_type": "code",
   "execution_count": 37,
   "metadata": {
    "ExecuteTime": {
     "end_time": "2023-05-29T15:26:54.851939900Z",
     "start_time": "2023-05-29T15:26:54.828949Z"
    },
    "collapsed": false,
    "jupyter": {
     "outputs_hidden": false
    }
   },
   "outputs": [],
   "source": []
  }
 ],
 "metadata": {
  "kernelspec": {
   "display_name": "Python 3 (ipykernel)",
   "language": "python",
   "name": "python3"
  },
  "language_info": {
   "codemirror_mode": {
    "name": "ipython",
    "version": 3
   },
   "file_extension": ".py",
   "mimetype": "text/x-python",
   "name": "python",
   "nbconvert_exporter": "python",
   "pygments_lexer": "ipython3",
   "version": "3.9.7"
  }
 },
 "nbformat": 4,
 "nbformat_minor": 4
}
