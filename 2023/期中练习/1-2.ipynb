{
 "cells": [
  {
   "cell_type": "markdown",
   "metadata": {
    "tags": []
   },
   "source": [
    "# 期中练习\n",
    "\n",
    "## 要求\n",
    "\n",
    "检验对上半学期知识的掌握，课后自行完成，可查阅各种资料。\n",
    "\n",
    "### 如何提交\n",
    "\n",
    "- 复制本文件，文件名改为`教学班号-编号.ipynb`。例如刘国强同学是2班第15号，文件名应改为`2-15.ipynb`。\n",
    "- 在复制文件中答题，每道题的答案紧接题目。\n",
    "- 答题结束后commit该文件，并提交pull request。\n",
    "\n"
   ]
  },
  {
   "cell_type": "code",
   "execution_count": 1,
   "metadata": {},
   "outputs": [],
   "source": [
    "import numpy as np\n",
    "import matplotlib.pyplot as plt"
   ]
  },
  {
   "cell_type": "markdown",
   "metadata": {},
   "source": [
    "## 练习1\n",
    "\n",
    "为了分析自变量$x$和因变量$y$的关系，通过测量得到带误差的20个样本数据如下所示"
   ]
  },
  {
   "cell_type": "code",
   "execution_count": 2,
   "metadata": {},
   "outputs": [],
   "source": [
    "X = np.array([ 0.70846042, -0.68388789,  1.03780474,  1.08334621,  0.77026309,\n",
    "        0.19722004, -0.46819526, -0.45270204,  0.02362673,  0.06549472,\n",
    "        0.08898416,  0.59424455, -0.26400365,  0.2456922 ,  0.5114847 ,\n",
    "       -0.31604016, -1.49329364,  1.24112288,  1.01993764,  1.75634392])"
   ]
  },
  {
   "cell_type": "code",
   "execution_count": 3,
   "metadata": {},
   "outputs": [],
   "source": [
    "Y = np.array([ 4.49682518,  3.5737603 ,  7.93568197,  3.58719009,  5.38341441,\n",
    "        5.47930021, -0.9861325 , -0.15686681,  2.36963799,  4.01600211,\n",
    "       -0.20329642,  3.07728831, -1.30408343,  2.84796441,  2.27915787,\n",
    "        2.62078689, -1.2855133 ,  4.39242028,  6.24385669,  6.00822241])"
   ]
  },
  {
   "cell_type": "code",
   "execution_count": 4,
   "metadata": {
    "tags": []
   },
   "outputs": [
    {
     "data": {
      "text/plain": [
       "[<matplotlib.lines.Line2D at 0x178d71ddf90>]"
      ]
     },
     "execution_count": 4,
     "metadata": {},
     "output_type": "execute_result"
    },
    {
     "data": {
      "image/png": "[encoded data removed]",
      "text/plain": [
       "<Figure size 640x480 with 1 Axes>"
      ]
     },
     "metadata": {},
     "output_type": "display_data"
    }
   ],
   "source": [
    "plt.plot(X, Y, \".\")"
   ]
  },
  {
   "cell_type": "markdown",
   "metadata": {
    "tags": []
   },
   "source": [
    "### 1.1 划分训练集和测试集\n",
    "\n",
    "将20个数据点划分为训练集和测试集，期中训练集为前15个数据点，测试集为后5个。"
   ]
  },
  {
   "cell_type": "code",
   "execution_count": 5,
   "metadata": {},
   "outputs": [],
   "source": [
    "X_train=X[:15]\n",
    "Y_train=Y[:15]\n",
    "X_test=X[15:]\n",
    "Y_test=Y[15:]"
   ]
  },
  {
   "cell_type": "markdown",
   "metadata": {},
   "source": [
    "### 1.2 数据建模\n",
    "\n",
    "分别用1到4次多项式函数作为模型拟合训练集中的数据，并分别计算每个模型与数据的均方差（MSE）。\n",
    "\n",
    "哪一个模型与训练数据拟合最好？"
   ]
  },
  {
   "cell_type": "code",
   "execution_count": 6,
   "metadata": {},
   "outputs": [],
   "source": [
    "# 1次多项式拟合\n",
    "coeffs_1 = np.polyfit(X_train, Y_train, 1)\n",
    "poly_1 = np.poly1d(coeffs_1)\n",
    "Y_pred_1 = poly_1(X_train)"
   ]
  },
  {
   "cell_type": "code",
   "execution_count": 7,
   "metadata": {},
   "outputs": [],
   "source": [
    "# 2次多项式拟合\n",
    "coeffs_2 = np.polyfit(X_train, Y_train, 2)\n",
    "poly_2 = np.poly1d(coeffs_2)\n",
    "Y_pred_2 = poly_2(X_train)"
   ]
  },
  {
   "cell_type": "code",
   "execution_count": 8,
   "metadata": {},
   "outputs": [],
   "source": [
    "# 3次多项式拟合\n",
    "coeffs_3 = np.polyfit(X_train, Y_train, 3)\n",
    "poly_3 = np.poly1d(coeffs_3)\n",
    "Y_pred_3 = poly_3(X_train)"
   ]
  },
  {
   "cell_type": "code",
   "execution_count": 9,
   "metadata": {},
   "outputs": [],
   "source": [
    "# 4次多项式拟合\n",
    "coeffs_4 = np.polyfit(X_train, Y_train, 4)\n",
    "poly_4 = np.poly1d(coeffs_4)\n",
    "Y_pred_4 = poly_4(X_train)"
   ]
  },
  {
   "cell_type": "code",
   "execution_count": 10,
   "metadata": {},
   "outputs": [
    {
     "name": "stdout",
     "output_type": "stream",
     "text": [
      "1次多项式模型的MSE为： 3.614119980936592\n",
      "2次多项式模型的MSE为： 3.4709875708912987\n",
      "3次多项式模型的MSE为： 3.0102468155333737\n",
      "4次多项式模型的MSE为： 2.3971661654711816\n"
     ]
    }
   ],
   "source": [
    "# 计算每个模型的 MSE\n",
    "MSE_1 = np.mean((Y_train - Y_pred_1) ** 2)\n",
    "MSE_2 = np.mean((Y_train - Y_pred_2) ** 2)\n",
    "MSE_3 = np.mean((Y_train - Y_pred_3) ** 2)\n",
    "MSE_4 = np.mean((Y_train - Y_pred_4) ** 2)\n",
    "\n",
    "print(\"1次多项式模型的MSE为：\", MSE_1)\n",
    "print(\"2次多项式模型的MSE为：\", MSE_2)\n",
    "print(\"3次多项式模型的MSE为：\", MSE_3)\n",
    "print(\"4次多项式模型的MSE为：\", MSE_4)"
   ]
  },
  {
   "cell_type": "markdown",
   "metadata": {},
   "source": [
    "根据计算得到的均方差,可以看出4次多项式函数的MSE最小,即4次多项式函数对训练数据拟合效果最好"
   ]
  },
  {
   "cell_type": "markdown",
   "metadata": {},
   "source": [
    "### 1.3 模型测试\n",
    "计算4个模型与测试数据的均方差，哪一个模型与测试数据拟合最好？"
   ]
  },
  {
   "cell_type": "markdown",
   "metadata": {},
   "source": [
    "1.2和1.3的答案是否相同？两者的异同有什么意义？"
   ]
  },
  {
   "cell_type": "code",
   "execution_count": 11,
   "metadata": {},
   "outputs": [
    {
     "name": "stdout",
     "output_type": "stream",
     "text": [
      "1次多项式模型的测试MSE为： 1.9373288022689146\n",
      "2次多项式模型的测试MSE为： 6.9248859162616085\n",
      "3次多项式模型的测试MSE为： 145.53829178692064\n",
      "4次多项式模型的测试MSE为： 2717.4997768004655\n"
     ]
    }
   ],
   "source": [
    "MSE_test_1 = np.mean((Y_test - poly_1(X_test)) ** 2)\n",
    "MSE_test_2 = np.mean((Y_test - poly_2(X_test)) ** 2)\n",
    "MSE_test_3 = np.mean((Y_test - poly_3(X_test)) ** 2)\n",
    "MSE_test_4 = np.mean((Y_test - poly_4(X_test)) ** 2)\n",
    "\n",
    "print(\"1次多项式模型的测试MSE为：\", MSE_test_1)\n",
    "print(\"2次多项式模型的测试MSE为：\", MSE_test_2)\n",
    "print(\"3次多项式模型的测试MSE为：\", MSE_test_3)\n",
    "print(\"4次多项式模型的测试MSE为：\", MSE_test_4)\n"
   ]
  },
  {
   "cell_type": "markdown",
   "metadata": {},
   "source": [
    "根据计算得到的均方差,可以看出1次多项式函数的MSE最小,即1次多项式函数对测试数据拟合效果最好。"
   ]
  },
  {
   "cell_type": "markdown",
   "metadata": {},
   "source": [
    "1.2和1.3的答案不同，因为1.2是针对训练数据的均方差，而1.3是针对测试数据的均方差。\n",
    "意义：\n",
    "异：\n",
    "  训练数据拟合效果和测试数据拟合效果可能不同。\n",
    "  不同的模型可能在训练和测试数据上表现不同。\n",
    "同：\n",
    "  均方差评估方法可以用于评估模型在训练和测试数据上的性能。\n",
    "  在训练和测试数据上都使用均方差评估方法可以帮助我们了解模型的泛化能力。"
   ]
  },
  {
   "cell_type": "markdown",
   "metadata": {
    "tags": []
   },
   "source": [
    "## 练习2 人工神经网络\n",
    "\n",
    "有如下神经网络：\n",
    "- 输入$x$是2维向量，输出$y$是1维标量\n",
    "- 包含两个全连接层\n",
    "    - 第一层有5个神经元，激活函数为sigmoid\n",
    "    - 第二层有1个神经元，激活函数为relu\n",
    "- 损失函数为均方差MSE"
   ]
  },
  {
   "cell_type": "markdown",
   "metadata": {},
   "source": [
    "### 2.1 写出公式\n",
    "\n",
    "- 写出relu、sigmoid函数的公式\n",
    "- 写出整个神经网络的公式"
   ]
  },
  {
   "cell_type": "markdown",
   "metadata": {},
   "source": [
    "ReLU函数公式：\n",
    "ReLU(x) = max(0, x)\n",
    "\n",
    "Sigmoid函数公式：\n",
    "Sigmoid(x) = 1 / (1 + exp(-x))\n",
    "其中exp(x)指数函数。\n",
    "\n",
    "  整个神经网络的公式可以使用矩阵和向量的运算来表示。假设神经网络有L层，第i层包含Ni个神经元，第i层和第i+1层之间的权重矩阵是Wi，第i层的偏置向量是bi，第i层的输出向量为ai，则整个神经网络的前向传播可以表示为：\n",
    "\n",
    "a1 = x\n",
    "\n",
    "for i in range(1, L):\n",
    "\n",
    "zi+1 = Wi ai + bi\n",
    "\n",
    "ai+1 = g(zi+1)\n",
    "\n",
    "其中x是输入向量，g(x)是激活函数"
   ]
  },
  {
   "cell_type": "markdown",
   "metadata": {},
   "source": [
    "### 2.2 正向传播\n",
    "\n",
    "假设已知4个数据点的输入'X'，参考输出'Y'，参数'W_1'、'B_1'、'W_2'、'B_2'，。\n",
    "\n",
    "- 正向传播计算输出预测值'Y_pred'\n",
    "- 计算损失值'L'\n"
   ]
  },
  {
   "cell_type": "code",
   "execution_count": 12,
   "metadata": {},
   "outputs": [],
   "source": [
    "X = np.array([[-0.05025071,  1.12345037],\n",
    "       [-1.2771336 , -0.03387919],\n",
    "       [-0.06085093,  0.83960333],\n",
    "       [ 0.26666122, -0.15723225]])"
   ]
  },
  {
   "cell_type": "markdown",
   "metadata": {
    "tags": []
   },
   "source": [
    "注意，这里输入'x'表示为行向量，即'X'中每行表示一个数据点。"
   ]
  },
  {
   "cell_type": "code",
   "execution_count": 13,
   "metadata": {},
   "outputs": [],
   "source": [
    "Y = np.array([[ 0.34942997],\n",
    "       [ 0.09796396],\n",
    "       [ 1.80617515],\n",
    "       [-0.50698293]])"
   ]
  },
  {
   "cell_type": "code",
   "execution_count": 14,
   "metadata": {},
   "outputs": [],
   "source": [
    "W1 = np.random.randn(2,5)\n",
    "b1 = np.random.randn(5)\n",
    "W2 = np.random.randn(5,1)\n",
    "b2 = np.random.randn(1,1)"
   ]
  },
  {
   "cell_type": "code",
   "execution_count": 15,
   "metadata": {},
   "outputs": [],
   "source": [
    "W1 = np.array([[-0.15772071,  2.4169384 ,  1.18656177,  0.74048303,  0.95473468],\n",
    "       [ 1.75613621,  0.44768404,  0.25003215,  0.52863169, -0.75204543]])"
   ]
  },
  {
   "cell_type": "code",
   "execution_count": 16,
   "metadata": {},
   "outputs": [],
   "source": [
    "b1 = np.array([-1.00393578, -0.19942106, -1.23939537,  1.62336519, -0.21580562])"
   ]
  },
  {
   "cell_type": "code",
   "execution_count": 17,
   "metadata": {},
   "outputs": [],
   "source": [
    "W2 = np.array([[ 0.8173788 ],\n",
    "       [-0.01165333],\n",
    "       [ 1.10703394],\n",
    "       [ 0.90372372],\n",
    "       [ 0.86510315]])"
   ]
  },
  {
   "cell_type": "code",
   "execution_count": 18,
   "metadata": {},
   "outputs": [],
   "source": [
    "b2 = np.array([[0.277288]])"
   ]
  },
  {
   "cell_type": "code",
   "execution_count": 19,
   "metadata": {},
   "outputs": [
    {
     "name": "stdout",
     "output_type": "stream",
     "text": [
      "Y_pred: [[2.18514844]\n",
      " [1.35081552]\n",
      " [2.09965131]\n",
      " [1.98338406]]\n",
      "Loss: 2.80688883177308\n"
     ]
    }
   ],
   "source": [
    "import numpy as np\n",
    "\n",
    "# 定义激活函数sigmoid和relu\n",
    "def sigmoid(x):\n",
    "    return 1 / (1 + np.exp(-x))\n",
    "\n",
    "def relu(x):\n",
    "    return np.maximum(0, x)\n",
    "\n",
    "\n",
    "# 定义正向传播\n",
    "z1 = np.dot(X, W1) + b1\n",
    "a1 = sigmoid(z1)\n",
    "z2 = np.dot(a1, W2) + b2\n",
    "Y_pred = relu(z2)\n",
    "\n",
    "# 计算损失值\n",
    "L = np.mean((Y_pred - Y) ** 2)\n",
    "print('Y_pred:', Y_pred)\n",
    "print('Loss:', L)"
   ]
  },
  {
   "cell_type": "markdown",
   "metadata": {},
   "source": [
    "### 2.3 方向传播\n",
    "\n",
    "计算损失值'L'对参数'W_1'、'B_1'、'W_2'、'B_2'的偏导数。"
   ]
  },
  {
   "cell_type": "code",
   "execution_count": 20,
   "metadata": {},
   "outputs": [
    {
     "name": "stdout",
     "output_type": "stream",
     "text": [
      "dW1: [[-0.20125636 -0.00091094  0.02455481 -0.25777094 -0.09368528]\n",
      " [ 0.32208014 -0.00555787  0.40685269  0.1394073   0.28658914]]\n",
      "db1: [[ 0.90681903 -0.01366548  1.08585609  0.71943809  1.05461034]]\n",
      "dW2: [[2.4110839 ]\n",
      " [2.67036349]\n",
      " [1.32311774]\n",
      " [4.85214304]\n",
      " [2.12865661]]\n",
      "db2: [[5.87241318]]\n"
     ]
    }
   ],
   "source": [
    "import numpy as np\n",
    "# 定义反向传播\n",
    "dY_pred = Y_pred - Y\n",
    "d_z2 = np.where(z2 > 0, dY_pred, 0)\n",
    "d_W2 = np.dot(a1.T, d_z2)\n",
    "d_b2 = np.sum(d_z2, axis=0, keepdims=True)\n",
    "d_a1 = np.dot(d_z2, W2.T)\n",
    "d_z1 = d_a1 * sigmoid(z1) * (1 - sigmoid(z1))\n",
    "d_W1 = np.dot(X.T, d_z1)\n",
    "d_b1 = np.sum(d_z1, axis=0, keepdims=True)\n",
    "# 输出偏导数值\n",
    "print('dW1:', d_W1)\n",
    "print('db1:', d_b1)\n",
    "print('dW2:', d_W2)\n",
    "print('db2:', d_b2)\n"
   ]
  }
 ],
 "metadata": {
  "kernelspec": {
   "display_name": "Python 3 (ipykernel)",
   "language": "python",
   "name": "python3"
  },
  "language_info": {
   "codemirror_mode": {
    "name": "ipython",
    "version": 3
   },
   "file_extension": ".py",
   "mimetype": "text/x-python",
   "name": "python",
   "nbconvert_exporter": "python",
   "pygments_lexer": "ipython3",
   "version": "3.10.9"
  },
  "toc-autonumbering": true
 },
 "nbformat": 4,
 "nbformat_minor": 4
}
