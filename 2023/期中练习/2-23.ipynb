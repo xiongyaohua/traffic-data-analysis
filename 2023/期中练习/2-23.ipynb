{
 "cells": [
  {
   "attachments": {},
   "cell_type": "markdown",
   "metadata": {},
   "source": [
    "# 期中练习\n",
    "\n",
    "## 要求\n",
    "\n",
    "检验对上半学期知识的掌握，课后自行完成，可查阅各种资料。\n",
    "\n",
    "### 如何提交\n",
    "\n",
    "- 复制本文件，文件名改为`教学班号-编号.ipynb`。例如刘国强同学是2班第15号，文件名应改为`2-15.ipynb`。\n",
    "- 在复制文件中答题，每道题的答案紧接题目。\n",
    "- 答题结束后commit该文件，并提交pull request。\n",
    "\n"
   ]
  },
  {
   "cell_type": "code",
   "execution_count": 1,
   "metadata": {},
   "outputs": [],
   "source": [
    "import numpy as np\n",
    "import matplotlib.pyplot as plt"
   ]
  },
  {
   "attachments": {},
   "cell_type": "markdown",
   "metadata": {},
   "source": [
    "## 练习1\n",
    "\n",
    "为了分析自变量$x$和因变量$y$的关系，通过测量得到带误差的20个样本数据如下所示"
   ]
  },
  {
   "cell_type": "code",
   "execution_count": 11,
   "metadata": {},
   "outputs": [],
   "source": [
    "X = np.array([ 0.70846042, -0.68388789,  1.03780474,  1.08334621,  0.77026309,\n",
    "        0.19722004, -0.46819526, -0.45270204,  0.02362673,  0.06549472,\n",
    "        0.08898416,  0.59424455, -0.26400365,  0.2456922 ,  0.5114847 ,\n",
    "       -0.31604016, -1.49329364,  1.24112288,  1.01993764,  1.75634392])"
   ]
  },
  {
   "cell_type": "code",
   "execution_count": 13,
   "metadata": {},
   "outputs": [],
   "source": [
    "Y = np.array([ 4.49682518,  3.5737603 ,  7.93568197,  3.58719009,  5.38341441,\n",
    "        5.47930021, -0.9861325 , -0.15686681,  2.36963799,  4.01600211,\n",
    "       -0.20329642,  3.07728831, -1.30408343,  2.84796441,  2.27915787,\n",
    "        2.62078689, -1.2855133 ,  4.39242028,  6.24385669,  6.00822241])"
   ]
  },
  {
   "cell_type": "code",
   "execution_count": 14,
   "metadata": {},
   "outputs": [
    {
     "data": {
      "text/plain": [
       "[<matplotlib.lines.Line2D at 0x1193d07c0>]"
      ]
     },
     "execution_count": 14,
     "metadata": {},
     "output_type": "execute_result"
    },
    {
     "data": {
      "image/png": "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",
      "text/plain": [
       "<Figure size 640x480 with 1 Axes>"
      ]
     },
     "metadata": {},
     "output_type": "display_data"
    }
   ],
   "source": [
    "plt.plot(X, Y, \".\")"
   ]
  },
  {
   "attachments": {},
   "cell_type": "markdown",
   "metadata": {},
   "source": [
    "### 1.1 划分训练集和测试集\n",
    "\n",
    "将20个数据点划分为训练集和测试集，期中训练集为前15个数据点，测试集为后5个。"
   ]
  },X_train = X[:15]
Y_train = Y[:15]

X_test = X[15:]
Y_test = Y[15:]

  {
   "attachments": {},
   "cell_type": "markdown",
   "metadata": {},
   "source": [
    "### 1.2 数据建模\n",
    "\n",
    "分别用1到4次多项式函数作为模型拟合训练集中的数据，并分别计算每个模型与数据的均方差（MSE）。\n",
    "\n",
    "哪一个模型与训练数据拟合最好？"
   ]
  },train_errors = []
degrees = range(1, 5)

for degree in degrees:
    # 将训练数据转换为多项式特征
    X_train_poly = np.vander(X_train, degree + 1, increasing=True)
    
    # 拟合多项式回归模型
    model = LinearRegression()
    model.fit(X_train_poly, Y_train)
    
    # 预测训练数据
    Y_train_pred = model.predict(X_train_poly)
    
    # 计算训练数据的均方差
    mse = mean_squared_error(Y_train, Y_train_pred)
    train_errors.append(mse)

best_degree = degrees[np.argmin(train_errors)]

  {
   "attachments": {},
   "cell_type": "markdown",
   "metadata": {},
   "source": [
    "### 1.3 模型测试\n",
    "计算4个模型与测试数据的均方差，哪一个模型与测试数据拟合最好？"
   ]
  },test_errors = []

for degree in degrees:
    # 将测试数据转换为多项式特征
    X_test_poly = np.vander(X_test, degree + 1, increasing=True)
    
    # 预测测试数据
    Y_test_pred = model.predict(X_test_poly)
    
    # 计算测试数据的均方差
    mse = mean_squared_error(Y_test, Y_test_pred)
    test_errors.append(mse)

best_degree_test = degrees[np.argmin(test_errors)]

  {
   "attachments": {},
   "cell_type": "markdown",
   "metadata": {},
   "source": [
    "1.2和1.3的答案是否相同？两者的异同有什么意义？"
   ]
  },如果我们在1.2和1.3中使用相同的代码和数据，那么答案应该是相同的，即选择具有最小均方差的多项式次数作为最佳模型。1.2中使用的是训练数据，而1.3中使用的是测试数据。选择具有最小均方差的模型在训练数据上可能并不一定适用于测试数据。这是因为模型可能在训练数据上过度拟合，导致在测试数据上表现不佳。因此，使用测试数据进行模型评估可以更好地了解模型在未见过的数据上的性能。

由于测试数据与训练数据是相互独立的，测试数据可以提供对模型泛化能力的评估。如果模型在训练数据和测试数据上的性能差距较小，则可以认为该模型具有较好的泛化能力。相反，如果模型在训练数据上表现很好，但在测试数据上表现较差，则可能存在过拟合的问题。

因此，通过比较训练数据和测试数据上的模型性能，我们可以评估模型的泛化能力和过拟合程度，并选择最适合的模型。
  {
   "attachments": {},
   "cell_type": "markdown",
   "metadata": {},
   "source": [
    "## 练习2 人工神经网络\n",
    "\n",
    "有如下神经网络：\n",
    "- 输入$x$是2维向量，输出$y$是1维标量\n",
    "- 包含两个全连接层\n",
    "    - 第一层有5个神经元，激活函数为sigmoid\n",
    "    - 第二层有1个神经元，激活函数为relu\n",
    "- 损失函数为均方差MSE"
   ]
  },
  {
   "attachments": {},
   "cell_type": "markdown",
   "metadata": {},
   "source": [
    "### 2.1 写出公式\n",
    "\n",
    "- 写出relu、sigmoid函数的公式\n",
    "- 写出整个神经网络的公式"
   ]
  }import numpy as np

def relu(x):
    return np.maximum(0, x)

def sigmoid(x):
    return 1 / (1 + np.exp(-x))

def forward_propagation(X, Y, W1, b1, W2, b2):
    Z1 = np.dot(X, W1) + b1
    A1 = sigmoid(Z1)
    Z2 = np.dot(A1, W2) + b2
    Y_pred = relu(Z2)
    L = np.mean((Y_pred - Y) ** 2)
    
    return Y_pred, L

X = np.array([[-0.05025071, 1.12345037],
              [-1.2771336, -0.03387919],
              [-0.06085093, 0.83960333],
              [0.26666122, -0.15723225]])

Y = np.array([[0.34942997],
              [0.09796396],
              [1.80617515],
              [-0.50698293]])

W1 = np.array([[-0.15772071, 2.4169384, 1.18656177, 0.74048303, 0.95473468],
               [1.75613621, 0.44768404, 0.25003215, 0.52863169, -0.75204543]])

b1 = np.array([-1.00393578, -0.19942106, -1.23939537, 1.62336519, -0.21580562])

W2 = np.array([[0.8173788],
               [-0.01165333],
               [1.10703394],
               [0.90372372],
               [0.86510315]])

b2 = np.array([[0.277288]])

Y_pred, L = forward_propagation(X, Y, W1, b1, W2, b2)

print("Y_pred:")
print(Y_pred)
print("Loss (L):", L)

  {
   "attachments": {},
   "cell_type": "markdown",
   "metadata": {},
   "source": [
    "### 2.2 正向传播\n",
    "\n",
    "假设已知4个数据点的输入'X'，参考输出'Y'，参数'W_1'、'B_1'、'W_2'、'B_2'，。\n",
    "\n",
    "- 正向传播计算输出预测值'Y_pred'\n",
    "- 计算损失值'L'\n"
   ]
  },
  {
   "cell_type": "code",
   "execution_count": 18,
   "metadata": {},
   "outputs": [],
   "source": [
    "X = np.array([[-0.05025071,  1.12345037],\n",
    "       [-1.2771336 , -0.03387919],\n",
    "       [-0.06085093,  0.83960333],\n",
    "       [ 0.26666122, -0.15723225]])"
   ]
  },
  {
   "attachments": {},
   "cell_type": "markdown",
   "metadata": {},
   "source": [
    "注意，这里输入'x'表示为行向量，即'X'中每行表示一个数据点。"
   ]
  },
  {
   "cell_type": "code",
   "execution_count": 20,
   "metadata": {},
   "outputs": [],
   "source": [
    "Y = np.array([[ 0.34942997],\n",
    "       [ 0.09796396],\n",
    "       [ 1.80617515],\n",
    "       [-0.50698293]])"
   ]
  },
  {
   "cell_type": "code",
   "execution_count": 21,
   "metadata": {},
   "outputs": [],
   "source": [
    "W1 = np.random.randn(2,5)\n",
    "b1 = np.random.randn(5)\n",
    "W2 = np.random.randn(5,1)\n",
    "b2 = np.random.randn(1,1)"
   ]
  },
  {
   "cell_type": "code",
   "execution_count": 23,
   "metadata": {},
   "outputs": [],
   "source": [
    "W1 = np.array([[-0.15772071,  2.4169384 ,  1.18656177,  0.74048303,  0.95473468],\n",
    "       [ 1.75613621,  0.44768404,  0.25003215,  0.52863169, -0.75204543]])"
   ]
  },
  {
   "cell_type": "code",
   "execution_count": 25,
   "metadata": {},
   "outputs": [],
   "source": [
    "b1 = np.array([-1.00393578, -0.19942106, -1.23939537,  1.62336519, -0.21580562])"
   ]
  },
  {
   "cell_type": "code",
   "execution_count": 27,
   "metadata": {},
   "outputs": [],
   "source": [
    "W2 = np.array([[ 0.8173788 ],\n",
    "       [-0.01165333],\n",
    "       [ 1.10703394],\n",
    "       [ 0.90372372],\n",
    "       [ 0.86510315]])"
   ]
  },
  {
   "cell_type": "code",
   "execution_count": 29,
   "metadata": {},
   "outputs": [],
   "source": [
    "b2 = np.array([[0.277288]])"
   ]
  },Z1 = np.dot(X, W1) + b1
A1 = 1 / (1 + np.exp(-Z1))
Z2 = np.dot(A1, W2) + b2
Y_pred = np.maximum(0, Z2)
L = np.mean((Y_pred - Y) ** 2)

  {
   "attachments": {},
   "cell_type": "markdown",
   "metadata": {},
   "source": [
    "### 2.3 方向传播\n",
    "\n",
    "计算损失值'L'对参数'W_1'、'B_1'、'W_2'、'B_2'的偏导数。"
   ]
  },dL_dY_pred = 2 * (Y_pred - Y) / len(Y)

dY_pred_dZ2 = np.where(Z2 > 0, 1, 0)

dZ2_dW2 = A1
dZ2_dA1 = W2

dL_d

  {
   "cell_type": "markdown",
   "metadata": {},
   "source": []
  }
 ],
 "metadata": {
  "kernelspec": {
   "display_name": "Python 3",
   "language": "python",
   "name": "python3"
  },
  "language_info": {
   "codemirror_mode": {
    "name": "ipython",
    "version": 3
   },
   "file_extension": ".py",
   "mimetype": "text/x-python",
   "name": "python",
   "nbconvert_exporter": "python",
   "pygments_lexer": "ipython3",
   "version": "3.10.11"
  },
  "orig_nbformat": 4
 },
 "nbformat": 4,
 "nbformat_minor": 2
}
